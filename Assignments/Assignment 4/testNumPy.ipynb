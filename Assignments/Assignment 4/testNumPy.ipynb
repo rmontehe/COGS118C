{
 "cells": [
  {
   "cell_type": "code",
   "execution_count": 9,
   "metadata": {},
   "outputs": [
    {
     "name": "stdout",
     "output_type": "stream",
     "text": [
      "1.0\n",
      "2.0\n",
      "4.847679857416329\n",
      "3.774917217635375\n",
      "-inf\n"
     ]
    },
    {
     "name": "stderr",
     "output_type": "stream",
     "text": [
      "C:\\Users\\Ronald Matthew\\Anaconda3\\lib\\site-packages\\ipykernel_launcher.py:23: RuntimeWarning: divide by zero encountered in double_scalars\n"
     ]
    },
    {
     "data": {
      "text/plain": [
       "array([[ 1.        , -0.80602898],\n",
       "       [-0.80602898,  1.        ]])"
      ]
     },
     "execution_count": 9,
     "metadata": {},
     "output_type": "execute_result"
    }
   ],
   "source": [
    "import numpy as np\n",
    "\n",
    "x = [6, -1, 2, 6, 5, -9, 2, -3]\n",
    "y = [-4, 8, 3, -2, 0, 6, 1, 4]\n",
    "\n",
    "xbar = np.mean(x)\n",
    "ybar = np.mean(y)\n",
    "\n",
    "xstd = np.std(x)\n",
    "ystd = np.std(y)\n",
    "\n",
    "print(xbar)\n",
    "print(ybar)\n",
    "print(xstd)\n",
    "print(ystd)\n",
    "\n",
    "newx = x - xbar\n",
    "newy = y - ybar\n",
    "\n",
    "num = np.dot(x - xbar, y - ybar)\n",
    "denom = (np.sum(newx)**2) * np.sum((newy)**2)\n",
    "\n",
    "print(num/np.sqrt(denom))\n",
    "\n",
    "np.corrcoef(x,y)"
   ]
  }
 ],
 "metadata": {
  "kernelspec": {
   "display_name": "Python 3",
   "language": "python",
   "name": "python3"
  },
  "language_info": {
   "codemirror_mode": {
    "name": "ipython",
    "version": 3
   },
   "file_extension": ".py",
   "mimetype": "text/x-python",
   "name": "python",
   "nbconvert_exporter": "python",
   "pygments_lexer": "ipython3",
   "version": "3.7.3"
  }
 },
 "nbformat": 4,
 "nbformat_minor": 2
}
